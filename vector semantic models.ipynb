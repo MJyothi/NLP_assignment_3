{
  "cells": [
    {
      "cell_type": "markdown",
      "metadata": {
        "id": "28FVlmI6zjb7"
      },
      "source": [
        "# Create list from Simlex 999"
      ]
    },
    {
      "cell_type": "code",
      "execution_count": 8,
      "metadata": {
        "id": "x7GS5HJEQUwr"
      },
      "outputs": [],
      "source": [
        "import pandas\n",
        "\n",
        "data= pandas.read_csv('/content/SimLex-999.txt', sep='\\t', engine='python')"
      ]
    },
    {
      "cell_type": "code",
      "execution_count": 7,
      "metadata": {
        "colab": {
          "base_uri": "https://localhost:8080/",
          "height": 206
        },
        "id": "aSEQUps6_bYH",
        "outputId": "ad1198ca-6619-4a48-fb12-bcbf4a8d82e1"
      },
      "outputs": [
        {
          "output_type": "execute_result",
          "data": {
            "text/plain": [
              "   word1        word2 POS  SimLex999  conc(w1)  conc(w2)  concQ  Assoc(USF)  \\\n",
              "0    old          new   A       1.58      2.72      2.81      2        7.25   \n",
              "1  smart  intelligent   A       9.20      1.75      2.46      1        7.11   \n",
              "2   hard    difficult   A       8.77      3.76      2.21      2        5.94   \n",
              "3  happy     cheerful   A       9.55      2.56      2.34      1        5.85   \n",
              "4   hard         easy   A       0.95      3.76      2.07      2        5.82   \n",
              "\n",
              "   SimAssoc333  SD(SimLex)  \n",
              "0            1        0.41  \n",
              "1            1        0.67  \n",
              "2            1        1.19  \n",
              "3            1        2.18  \n",
              "4            1        0.93  "
            ],
            "text/html": [
              "\n",
              "  <div id=\"df-c1adfca2-07fb-4a2d-9ce3-2f0b0310ff9e\">\n",
              "    <div class=\"colab-df-container\">\n",
              "      <div>\n",
              "<style scoped>\n",
              "    .dataframe tbody tr th:only-of-type {\n",
              "        vertical-align: middle;\n",
              "    }\n",
              "\n",
              "    .dataframe tbody tr th {\n",
              "        vertical-align: top;\n",
              "    }\n",
              "\n",
              "    .dataframe thead th {\n",
              "        text-align: right;\n",
              "    }\n",
              "</style>\n",
              "<table border=\"1\" class=\"dataframe\">\n",
              "  <thead>\n",
              "    <tr style=\"text-align: right;\">\n",
              "      <th></th>\n",
              "      <th>word1</th>\n",
              "      <th>word2</th>\n",
              "      <th>POS</th>\n",
              "      <th>SimLex999</th>\n",
              "      <th>conc(w1)</th>\n",
              "      <th>conc(w2)</th>\n",
              "      <th>concQ</th>\n",
              "      <th>Assoc(USF)</th>\n",
              "      <th>SimAssoc333</th>\n",
              "      <th>SD(SimLex)</th>\n",
              "    </tr>\n",
              "  </thead>\n",
              "  <tbody>\n",
              "    <tr>\n",
              "      <th>0</th>\n",
              "      <td>old</td>\n",
              "      <td>new</td>\n",
              "      <td>A</td>\n",
              "      <td>1.58</td>\n",
              "      <td>2.72</td>\n",
              "      <td>2.81</td>\n",
              "      <td>2</td>\n",
              "      <td>7.25</td>\n",
              "      <td>1</td>\n",
              "      <td>0.41</td>\n",
              "    </tr>\n",
              "    <tr>\n",
              "      <th>1</th>\n",
              "      <td>smart</td>\n",
              "      <td>intelligent</td>\n",
              "      <td>A</td>\n",
              "      <td>9.20</td>\n",
              "      <td>1.75</td>\n",
              "      <td>2.46</td>\n",
              "      <td>1</td>\n",
              "      <td>7.11</td>\n",
              "      <td>1</td>\n",
              "      <td>0.67</td>\n",
              "    </tr>\n",
              "    <tr>\n",
              "      <th>2</th>\n",
              "      <td>hard</td>\n",
              "      <td>difficult</td>\n",
              "      <td>A</td>\n",
              "      <td>8.77</td>\n",
              "      <td>3.76</td>\n",
              "      <td>2.21</td>\n",
              "      <td>2</td>\n",
              "      <td>5.94</td>\n",
              "      <td>1</td>\n",
              "      <td>1.19</td>\n",
              "    </tr>\n",
              "    <tr>\n",
              "      <th>3</th>\n",
              "      <td>happy</td>\n",
              "      <td>cheerful</td>\n",
              "      <td>A</td>\n",
              "      <td>9.55</td>\n",
              "      <td>2.56</td>\n",
              "      <td>2.34</td>\n",
              "      <td>1</td>\n",
              "      <td>5.85</td>\n",
              "      <td>1</td>\n",
              "      <td>2.18</td>\n",
              "    </tr>\n",
              "    <tr>\n",
              "      <th>4</th>\n",
              "      <td>hard</td>\n",
              "      <td>easy</td>\n",
              "      <td>A</td>\n",
              "      <td>0.95</td>\n",
              "      <td>3.76</td>\n",
              "      <td>2.07</td>\n",
              "      <td>2</td>\n",
              "      <td>5.82</td>\n",
              "      <td>1</td>\n",
              "      <td>0.93</td>\n",
              "    </tr>\n",
              "  </tbody>\n",
              "</table>\n",
              "</div>\n",
              "      <button class=\"colab-df-convert\" onclick=\"convertToInteractive('df-c1adfca2-07fb-4a2d-9ce3-2f0b0310ff9e')\"\n",
              "              title=\"Convert this dataframe to an interactive table.\"\n",
              "              style=\"display:none;\">\n",
              "        \n",
              "  <svg xmlns=\"http://www.w3.org/2000/svg\" height=\"24px\"viewBox=\"0 0 24 24\"\n",
              "       width=\"24px\">\n",
              "    <path d=\"M0 0h24v24H0V0z\" fill=\"none\"/>\n",
              "    <path d=\"M18.56 5.44l.94 2.06.94-2.06 2.06-.94-2.06-.94-.94-2.06-.94 2.06-2.06.94zm-11 1L8.5 8.5l.94-2.06 2.06-.94-2.06-.94L8.5 2.5l-.94 2.06-2.06.94zm10 10l.94 2.06.94-2.06 2.06-.94-2.06-.94-.94-2.06-.94 2.06-2.06.94z\"/><path d=\"M17.41 7.96l-1.37-1.37c-.4-.4-.92-.59-1.43-.59-.52 0-1.04.2-1.43.59L10.3 9.45l-7.72 7.72c-.78.78-.78 2.05 0 2.83L4 21.41c.39.39.9.59 1.41.59.51 0 1.02-.2 1.41-.59l7.78-7.78 2.81-2.81c.8-.78.8-2.07 0-2.86zM5.41 20L4 18.59l7.72-7.72 1.47 1.35L5.41 20z\"/>\n",
              "  </svg>\n",
              "      </button>\n",
              "      \n",
              "  <style>\n",
              "    .colab-df-container {\n",
              "      display:flex;\n",
              "      flex-wrap:wrap;\n",
              "      gap: 12px;\n",
              "    }\n",
              "\n",
              "    .colab-df-convert {\n",
              "      background-color: #E8F0FE;\n",
              "      border: none;\n",
              "      border-radius: 50%;\n",
              "      cursor: pointer;\n",
              "      display: none;\n",
              "      fill: #1967D2;\n",
              "      height: 32px;\n",
              "      padding: 0 0 0 0;\n",
              "      width: 32px;\n",
              "    }\n",
              "\n",
              "    .colab-df-convert:hover {\n",
              "      background-color: #E2EBFA;\n",
              "      box-shadow: 0px 1px 2px rgba(60, 64, 67, 0.3), 0px 1px 3px 1px rgba(60, 64, 67, 0.15);\n",
              "      fill: #174EA6;\n",
              "    }\n",
              "\n",
              "    [theme=dark] .colab-df-convert {\n",
              "      background-color: #3B4455;\n",
              "      fill: #D2E3FC;\n",
              "    }\n",
              "\n",
              "    [theme=dark] .colab-df-convert:hover {\n",
              "      background-color: #434B5C;\n",
              "      box-shadow: 0px 1px 3px 1px rgba(0, 0, 0, 0.15);\n",
              "      filter: drop-shadow(0px 1px 2px rgba(0, 0, 0, 0.3));\n",
              "      fill: #FFFFFF;\n",
              "    }\n",
              "  </style>\n",
              "\n",
              "      <script>\n",
              "        const buttonEl =\n",
              "          document.querySelector('#df-c1adfca2-07fb-4a2d-9ce3-2f0b0310ff9e button.colab-df-convert');\n",
              "        buttonEl.style.display =\n",
              "          google.colab.kernel.accessAllowed ? 'block' : 'none';\n",
              "\n",
              "        async function convertToInteractive(key) {\n",
              "          const element = document.querySelector('#df-c1adfca2-07fb-4a2d-9ce3-2f0b0310ff9e');\n",
              "          const dataTable =\n",
              "            await google.colab.kernel.invokeFunction('convertToInteractive',\n",
              "                                                     [key], {});\n",
              "          if (!dataTable) return;\n",
              "\n",
              "          const docLinkHtml = 'Like what you see? Visit the ' +\n",
              "            '<a target=\"_blank\" href=https://colab.research.google.com/notebooks/data_table.ipynb>data table notebook</a>'\n",
              "            + ' to learn more about interactive tables.';\n",
              "          element.innerHTML = '';\n",
              "          dataTable['output_type'] = 'display_data';\n",
              "          await google.colab.output.renderOutput(dataTable, element);\n",
              "          const docLink = document.createElement('div');\n",
              "          docLink.innerHTML = docLinkHtml;\n",
              "          element.appendChild(docLink);\n",
              "        }\n",
              "      </script>\n",
              "    </div>\n",
              "  </div>\n",
              "  "
            ]
          },
          "metadata": {},
          "execution_count": 7
        }
      ],
      "source": [
        "data.head()"
      ]
    },
    {
      "cell_type": "code",
      "execution_count": 9,
      "metadata": {
        "id": "76adxz_S_w_g"
      },
      "outputs": [],
      "source": [
        "import collections\n",
        "\n",
        "data_set = set(data['word1'].append(data['word2'])) \n"
      ]
    },
    {
      "cell_type": "code",
      "execution_count": null,
      "metadata": {
        "id": "lEk7PxNoERho"
      },
      "outputs": [],
      "source": [
        "n_list = collections.defaultdict(dict)\n",
        " \n",
        "for item in data_set:\n",
        "  for index, row in data.iterrows():\n",
        "    if(row['word1'] == item ):\n",
        "      n_list[item][row['word2']] = row['SimLex999']\n",
        "    if(row['word2'] == item):\n",
        "      n_list[item][row['word1']] = row['SimLex999']"
      ]
    },
    {
      "cell_type": "code",
      "execution_count": 10,
      "metadata": {
        "id": "Y--ttAFQFcaZ"
      },
      "outputs": [],
      "source": [
        "import copy\n",
        "n_list2 = copy.deepcopy(n_list)\n",
        "\n",
        "for values in n_list[item].keys():\n",
        "  if (len(n_list[item]) <10 ):\n",
        "    for value in n_list[values]:\n",
        "      if( item != value):\n",
        "        n_list2[item][value] = n_list[values][value]"
      ]
    },
    {
      "cell_type": "code",
      "execution_count": 12,
      "metadata": {
        "id": "z-rOXVz7ad2w"
      },
      "outputs": [],
      "source": [
        "from collections import OrderedDict\n",
        "from operator import itemgetter\n",
        "\n",
        "sort_dict_10 = collections.defaultdict(dict)\n",
        "\n",
        "for i in n_list2.keys():\n",
        "  sort_dict_10[i] =  (OrderedDict(sorted( n_list2[i].items(), key=itemgetter(1), reverse=True)[:10]))"
      ]
    },
    {
      "cell_type": "code",
      "execution_count": 12,
      "metadata": {
        "colab": {
          "base_uri": "https://localhost:8080/"
        },
        "id": "MglA20fraxfF",
        "outputId": "3f435d1a-19fd-4e2d-d402-6b86c44113e2"
      },
      "outputs": [
        {
          "output_type": "execute_result",
          "data": {
            "text/plain": [
              "{'ancient': 0.23, 'fresh': 6.83, 'new': 6.83, 'recent': 7.05, 'wide': 0.4}"
            ]
          },
          "metadata": {},
          "execution_count": 12
        }
      ],
      "source": [
        "sort_dict_10['old']"
      ]
    },
    {
      "cell_type": "code",
      "execution_count": 13,
      "metadata": {
        "id": "R6dMslA3p_zr"
      },
      "outputs": [],
      "source": [
        "for key in sort_dict_10.keys():\n",
        "  for value in sort_dict_10[key].keys():\n",
        "    sort_dict_10[key][value] = 1"
      ]
    },
    {
      "cell_type": "code",
      "execution_count": null,
      "metadata": {
        "id": "JL_yVh_0llWL"
      },
      "outputs": [],
      "source": [
        "import json\n",
        "with open('sort_dict_10.json', 'w') as fp:\n",
        "        json.dump(sort_dict_10, fp, indent=2)"
      ]
    },
    {
      "cell_type": "markdown",
      "source": [
        "# Word2Vec "
      ],
      "metadata": {
        "id": "DD3NdxbqDWWY"
      }
    },
    {
      "cell_type": "code",
      "source": [
        "!pip install pytrec-eval-terrier"
      ],
      "metadata": {
        "id": "965WnB79Dcet"
      },
      "execution_count": null,
      "outputs": []
    },
    {
      "cell_type": "code",
      "source": [
        "from gensim.test.utils import common_texts\n",
        "from gensim.models import Word2Vec"
      ],
      "metadata": {
        "id": "KY6y9UHZDemt"
      },
      "execution_count": null,
      "outputs": []
    },
    {
      "cell_type": "code",
      "execution_count": 3,
      "metadata": {
        "colab": {
          "base_uri": "https://localhost:8080/"
        },
        "id": "nUSYwXK2SFSA",
        "outputId": "19f3b760-1a0e-40b2-e8e2-63d10550fd85"
      },
      "outputs": [
        {
          "output_type": "stream",
          "name": "stdout",
          "text": [
            "[nltk_data] Downloading package brown to /root/nltk_data...\n",
            "[nltk_data]   Unzipping corpora/brown.zip.\n"
          ]
        },
        {
          "output_type": "execute_result",
          "data": {
            "text/plain": [
              "True"
            ]
          },
          "metadata": {},
          "execution_count": 3
        }
      ],
      "source": [
        "import nltk\n",
        "nltk.download('brown')"
      ]
    },
    {
      "cell_type": "code",
      "execution_count": 4,
      "metadata": {
        "id": "E28RVdQUSuol"
      },
      "outputs": [],
      "source": [
        "from nltk.corpus import brown"
      ]
    },
    {
      "cell_type": "code",
      "execution_count": 205,
      "metadata": {
        "id": "s808wzsJQDkc"
      },
      "outputs": [],
      "source": [
        "train_set = brown.sents(categories='news')"
      ]
    },
    {
      "cell_type": "code",
      "execution_count": 206,
      "metadata": {
        "colab": {
          "base_uri": "https://localhost:8080/"
        },
        "id": "1zfAklYmAj84",
        "outputId": "621f211c-64e2-4058-f676-782138851c27"
      },
      "outputs": [
        {
          "output_type": "execute_result",
          "data": {
            "text/plain": [
              "4623"
            ]
          },
          "metadata": {},
          "execution_count": 206
        }
      ],
      "source": [
        "len(train_set)"
      ]
    },
    {
      "cell_type": "code",
      "source": [
        "def calculate_w2v(train_set, size, window):\n",
        "  model = Word2Vec(train_set, size=size, window=window, min_count=1, workers=4, iter=1000)\n",
        "  \n",
        "  pickle.dump(model,open(\"word2vec_%s_%s.model\" % (size, window),\"wb\"))"
      ],
      "metadata": {
        "id": "6PtvaPORUrBO"
      },
      "execution_count": 96,
      "outputs": []
    },
    {
      "cell_type": "code",
      "source": [
        "from keras.models import load_model\n",
        "import collections\n",
        "import json\n",
        "import pickle\n",
        "\n",
        "def evaluate_w2v(data_set, size, window):\n",
        "\n",
        "  w2v_dict = collections.defaultdict(dict)\n",
        "\n",
        "  model = pickle.load(open(\"word2vec_%s_%s.model\" % (size, window),\"rb\"))\n",
        "\n",
        "  for word in data_set:\n",
        "    if(word in model.wv.vocab):\n",
        "      w2v_dict[word] = dict(model.wv.most_similar(word, topn=10) )\n",
        "\n",
        "  with open('w2v_dict_10_%s_%s.json' % (size, window), 'w') as fp:\n",
        "        json.dump(w2v_dict, fp, indent=2)\n",
        "\n",
        "  print('---Example for \"coat\" for window = {}, size = {}---'.format(window, size))\n",
        "  print(w2v_dict['coat'])\n",
        "\n",
        "  return w2v_dict"
      ],
      "metadata": {
        "id": "QjCCrfTFU5EZ"
      },
      "execution_count": 139,
      "outputs": []
    },
    {
      "cell_type": "code",
      "source": [
        "w2v_dict = collections.defaultdict(dict)"
      ],
      "metadata": {
        "id": "TNJZjciqLv7Q"
      },
      "execution_count": 56,
      "outputs": []
    },
    {
      "cell_type": "code",
      "source": [
        "from time import time"
      ],
      "metadata": {
        "id": "IBqgw_C3vyRA"
      },
      "execution_count": 115,
      "outputs": []
    },
    {
      "cell_type": "code",
      "source": [
        "for window in [1, 2, 5, 10]:\n",
        "  for size in [10, 50, 100, 300]:\n",
        "    start = time()\n",
        "    calculate_w2v(train_set, size, window)\n",
        "    end = time()\n",
        "    w2v_dict[str(window) + \"x\" + str(size)]  =  evaluate_w2v(sort_dict_10.keys(), size, window)\n",
        "    print(\"Time taken = {} minutes\".format((end-start)/60))\n",
        "    print()"
      ],
      "metadata": {
        "colab": {
          "base_uri": "https://localhost:8080/"
        },
        "id": "Vie40xnLRjO1",
        "outputId": "d13d78e2-a01a-426a-912c-1a7b26fbeb59"
      },
      "execution_count": 140,
      "outputs": [
        {
          "output_type": "stream",
          "name": "stdout",
          "text": [
            "---Example for \"coat\" for window = 1, size = 10---\n",
            "{'beautiful': 0.9203821420669556, '?': 0.9099258184432983, 'gentlemanly': 0.9029088020324707, 'clubs': 0.8959744572639465, 'Farm': 0.8947556018829346, 'tradition': 0.8888198733329773, '$5': 0.8858486413955688, 'confirming': 0.8827780485153198, 'follows': 0.8821460008621216, 'drove': 0.8748118281364441}\n",
            "Time taken = 6.013306653499603 minutes\n",
            "\n",
            "---Example for \"coat\" for window = 1, size = 50---\n",
            "{'herself': 0.7234134078025818, 'noting': 0.6868569850921631, 'evidently': 0.6475902199745178, 'spun': 0.6347422003746033, 'furs': 0.6224028468132019, 'Gets': 0.6195913553237915, 'tracks': 0.6062365770339966, 'filmy': 0.6061901450157166, 'interstate': 0.5923944115638733, 'upstairs': 0.591831624507904}\n",
            "Time taken = 6.583594524860382 minutes\n",
            "\n",
            "---Example for \"coat\" for window = 1, size = 100---\n",
            "{'noting': 0.6971226334571838, 'herself': 0.693163275718689, 'flying': 0.610471248626709, 'prestige': 0.6096903085708618, 'Newman': 0.6068985462188721, 'Watson': 0.5991549491882324, 'spun': 0.5989499092102051, 'specialties': 0.5975244045257568, 'shrugged': 0.5947761535644531, 'postman': 0.5941506624221802}\n",
            "Time taken = 6.6753268361091616 minutes\n",
            "\n",
            "---Example for \"coat\" for window = 1, size = 300---\n",
            "{'herself': 0.7168298959732056, 'noting': 0.6784315705299377, 'flying': 0.6433281898498535, 'spun': 0.6093933582305908, 'Watson': 0.5950239300727844, 'Newman': 0.5913341045379639, 'prestige': 0.5900439023971558, 'evidently': 0.5804494023323059, 'starter': 0.5771929621696472, 'postman': 0.5762860178947449}\n",
            "Time taken = 7.664633059501648 minutes\n",
            "\n",
            "---Example for \"coat\" for window = 2, size = 10---\n",
            "{\"Gaines'\": 0.9031651020050049, 'my': 0.8939208984375, 'suitcases': 0.8887113928794861, 'earns': 0.8858928084373474, 'Mexican': 0.8796935081481934, \"There's\": 0.8772452473640442, 'electricity': 0.876994252204895, 'Look': 0.8752045631408691, '2-hour-and-27-minute': 0.8700025081634521, 'batting': 0.866361677646637}\n",
            "Time taken = 6.343829619884491 minutes\n",
            "\n",
            "---Example for \"coat\" for window = 2, size = 50---\n",
            "{'half-mile': 0.6444147825241089, 'lamb': 0.623598575592041, \"d'hotel\": 0.6177734136581421, '$700': 0.612754225730896, 'furs': 0.592277467250824, 'gully': 0.5903815627098083, 'maitre': 0.5890288352966309, 'brunches': 0.5800434350967407, 'predominating': 0.5711848735809326, 'headboard': 0.56501305103302}\n",
            "Time taken = 6.979462317625681 minutes\n",
            "\n",
            "---Example for \"coat\" for window = 2, size = 100---\n",
            "{'noting': 0.5896525979042053, \"medico's\": 0.5600888729095459, '$1,500,000': 0.5575408935546875, 'herself': 0.5495227575302124, 'appraisal': 0.5493862628936768, 'lamb': 0.547978401184082, \"d'hotel\": 0.5474412441253662, 'par-3': 0.538722813129425, 'prestige': 0.5315166711807251, 'Commandeering': 0.5309598445892334}\n",
            "Time taken = 6.963198292255401 minutes\n",
            "\n",
            "---Example for \"coat\" for window = 2, size = 300---\n",
            "{'appraisal': 0.5631753206253052, 'noting': 0.5449676513671875, 'prestige': 0.5179504156112671, 'passport': 0.5095465183258057, \"medico's\": 0.49872612953186035, 'herself': 0.497151255607605, 'brushed': 0.4969785809516907, 'Sabol': 0.4963383078575134, 'lamb': 0.4942357540130615, 'electricity': 0.48934441804885864}\n",
            "Time taken = 8.02149242957433 minutes\n",
            "\n",
            "---Example for \"coat\" for window = 5, size = 10---\n",
            "{'wife': 0.9422043561935425, 'Houk': 0.9331492781639099, 'roofer': 0.9137653708457947, 'kicked': 0.8979997038841248, 'scorecard': 0.8937445282936096, '76': 0.8893560171127319, 'seventeen': 0.882827877998352, 'informally': 0.8814045190811157, 'skidded': 0.8761767148971558, 'purposely': 0.8733565807342529}\n",
            "Time taken = 6.467236491044362 minutes\n",
            "\n",
            "---Example for \"coat\" for window = 5, size = 50---\n",
            "{'intruders': 0.7977579832077026, 'mink': 0.6958168745040894, 'Journal': 0.6715770959854126, 'heroin': 0.6009472608566284, 'Borland': 0.5826728940010071, 'Tigard': 0.5746356248855591, 'peddler': 0.5635868310928345, '$5': 0.5604710578918457, 'novel': 0.5585272908210754, '$4,700': 0.5536107420921326}\n",
            "Time taken = 7.055026622613271 minutes\n",
            "\n",
            "---Example for \"coat\" for window = 5, size = 100---\n",
            "{'intruders': 0.6472064256668091, 'mink': 0.5870347619056702, 'Commandeering': 0.5110109448432922, \"medico's\": 0.4698275923728943, 'thug': 0.45356279611587524, 'heroin': 0.45345360040664673, '$5': 0.4503875970840454, 'rear': 0.443319171667099, '11-year-old': 0.44187507033348083, 'Mulligatawny': 0.441520631313324}\n",
            "Time taken = 7.215981558958689 minutes\n",
            "\n",
            "---Example for \"coat\" for window = 5, size = 300---\n",
            "{'intruders': 0.5922637581825256, 'mink': 0.5666074156761169, 'tilling': 0.5002461075782776, '$700': 0.498690128326416, \"She's\": 0.4882669150829315, 'Commandeering': 0.48562055826187134, \"medico's\": 0.4836765229701996, 'canted': 0.47743165493011475, 'headboard': 0.4670998454093933, 'heroin': 0.46392762660980225}\n",
            "Time taken = 8.252300572395324 minutes\n",
            "\n",
            "---Example for \"coat\" for window = 10, size = 10---\n",
            "{'intruders': 0.9220614433288574, 'ladies': 0.9160688519477844, 'wheeled': 0.8901137113571167, 'variously': 0.8877231478691101, 'Natural': 0.8736459016799927, 'hides': 0.8706972599029541, 'Mexican': 0.8636307716369629, 'assigned': 0.8635777831077576, 'grapes': 0.8623175621032715, 'Prairie': 0.8621603846549988}\n",
            "Time taken = 6.715572782357534 minutes\n",
            "\n",
            "---Example for \"coat\" for window = 10, size = 50---\n",
            "{'intruders': 0.8263648152351379, 'Persian': 0.792884111404419, 'lamb': 0.7211498022079468, 'mink': 0.7047157883644104, 'Journal': 0.5801181197166443, 'dies': 0.5575286746025085, '$250,000': 0.5489758253097534, 'jacket': 0.5398714542388916, 'Passage': 0.5339664816856384, 'delight': 0.5256046652793884}\n",
            "Time taken = 7.2752720753351845 minutes\n",
            "\n",
            "---Example for \"coat\" for window = 10, size = 100---\n",
            "{'intruders': 0.7825217843055725, 'Persian': 0.712275505065918, 'mink': 0.6560494303703308, 'lamb': 0.6505222916603088, 'jacket': 0.5096778869628906, 'black': 0.48324349522590637, 'export': 0.45106640458106995, '$700': 0.4215547442436218, 'Journal': 0.4132883548736572, 'peddler': 0.40851250290870667}\n",
            "Time taken = 7.400826418399811 minutes\n",
            "\n",
            "---Example for \"coat\" for window = 10, size = 300---\n",
            "{'intruders': 0.7519900798797607, 'Persian': 0.7074199914932251, 'lamb': 0.6722632646560669, 'mink': 0.5852258801460266, 'jacket': 0.5698243975639343, 'export': 0.5112565755844116, '$700': 0.48780766129493713, 'black': 0.4675668776035309, 'par-3': 0.45542383193969727, \"She's\": 0.4440479278564453}\n",
            "Time taken = 8.682756686210633 minutes\n",
            "\n"
          ]
        }
      ]
    },
    {
      "cell_type": "code",
      "source": [
        "train_set = brown.sents(categories='romance')"
      ],
      "metadata": {
        "id": "t3ukkP6GxNz3"
      },
      "execution_count": 203,
      "outputs": []
    },
    {
      "cell_type": "code",
      "source": [
        "w2v_dict = collections.defaultdict(dict)\n",
        "\n",
        "for window in [1, 2, 5, 10]:\n",
        "  for size in [10, 50, 100, 300]:\n",
        "    start = time()\n",
        "    calculate_w2v(train_set, size, window)\n",
        "    end = time()\n",
        "    w2v_dict[str(window) + \"x\" + str(size)]  =  evaluate_w2v(sort_dict_10.keys(), size, window)\n",
        "    print(\"Time taken = {} minutes\".format((end-start)/60))\n",
        "    print()\n"
      ],
      "metadata": {
        "colab": {
          "base_uri": "https://localhost:8080/"
        },
        "id": "Y7R2x-E_veLU",
        "outputId": "f7d1ac7e-4ab1-4b4c-c6d9-5c4b54f16b6e"
      },
      "execution_count": 126,
      "outputs": [
        {
          "output_type": "stream",
          "name": "stdout",
          "text": [
            "---Example for \"hero\" for window = 1, size = 10---\n",
            "{'broad': 0.9398741126060486, 'September': 0.9167139530181885, 'mail': 0.9140872955322266, 'blocks': 0.9124258756637573, 'sorts': 0.9108157753944397, 'immortal': 0.9095488786697388, 'defeatism': 0.9064130783081055, 'agencies': 0.9049108028411865, 'points': 0.9022621512413025, 'salacious': 0.9005990624427795}\n",
            "Time taken = 3.9851372917493184 minutes\n",
            "\n",
            "---Example for \"hero\" for window = 1, size = 50---\n",
            "{'pigs': 0.8877168893814087, 'undoing': 0.8838152885437012, 'magic': 0.8799055814743042, 'vestments': 0.8789108395576477, 'pan': 0.8720840811729431, 'philharmonic': 0.864040195941925, 'description': 0.8593283295631409, 'operation': 0.8571062684059143, 'revolved': 0.8428822755813599, 'Astronomy': 0.8410695195198059}\n",
            "Time taken = 4.237511730194091 minutes\n",
            "\n",
            "---Example for \"hero\" for window = 1, size = 100---\n",
            "{'pigs': 0.9095875024795532, 'operation': 0.8881607055664062, 'magic': 0.8876371383666992, 'vestments': 0.8868706822395325, 'pan': 0.8801186680793762, 'description': 0.8775576949119568, 'planes': 0.8732754588127136, 'philharmonic': 0.8696284294128418, 'undoing': 0.8677042126655579, 'Astronomy': 0.8565515875816345}\n",
            "Time taken = 4.2507118304570515 minutes\n",
            "\n",
            "---Example for \"hero\" for window = 1, size = 300---\n",
            "{'pigs': 0.9144734740257263, 'operation': 0.8890188932418823, 'pan': 0.8853194713592529, 'magic': 0.8847454190254211, 'vestments': 0.8844360113143921, 'planes': 0.8798994421958923, 'description': 0.8743513226509094, 'undoing': 0.8698495626449585, 'philharmonic': 0.8641273379325867, 'melancholy': 0.8636935353279114}\n",
            "Time taken = 4.786550192038218 minutes\n",
            "\n",
            "---Example for \"hero\" for window = 2, size = 10---\n",
            "{'glaring': 0.9356157183647156, 'Western': 0.9086396098136902, 'leaves': 0.9031468629837036, 'long-hair': 0.9023256897926331, 'lipstick': 0.8959982991218567, 'after-duty': 0.8953298330307007, 'frog': 0.8872124552726746, 'incentive': 0.8850873112678528, 'rides': 0.8783950209617615, 'sliding': 0.878191351890564}\n",
            "Time taken = 4.118746022383372 minutes\n",
            "\n",
            "---Example for \"hero\" for window = 2, size = 50---\n",
            "{'refrigerators': 0.7801735401153564, 'philharmonic': 0.7787821292877197, 'Son': 0.7655534744262695, 'Wow': 0.7518147230148315, 'healing': 0.7470488548278809, 'Pugh': 0.7462125420570374, 'Astronomy': 0.7356878519058228, 'weatherproof': 0.7063922882080078, 'facade': 0.6991607546806335, 'Ireland': 0.6961374282836914}\n",
            "Time taken = 4.449772520860036 minutes\n",
            "\n",
            "---Example for \"hero\" for window = 2, size = 100---\n",
            "{'philharmonic': 0.8739321231842041, 'tactics': 0.7368093729019165, 'facade': 0.7262065410614014, 'rousing': 0.7136691808700562, 'healing': 0.7100710868835449, 'refrigerators': 0.7085220217704773, 'Pugh': 0.7016779184341431, 'Son': 0.7012300491333008, 'Astronomy': 0.6977659463882446, 'tramp': 0.6960244178771973}\n",
            "Time taken = 4.51216607093811 minutes\n",
            "\n",
            "---Example for \"hero\" for window = 2, size = 300---\n",
            "{'philharmonic': 0.8644908666610718, 'Son': 0.7507102489471436, 'Pugh': 0.7469629049301147, 'Wow': 0.7428418397903442, 'Astronomy': 0.7402687072753906, 'healing': 0.6970333456993103, 'refrigerators': 0.6740942001342773, 'description': 0.6738969683647156, 'facade': 0.670579731464386, 'rousing': 0.6528326272964478}\n",
            "Time taken = 4.988240444660187 minutes\n",
            "\n",
            "---Example for \"hero\" for window = 5, size = 10---\n",
            "{'rabble': 0.949591875076294, 'rousing': 0.9461237192153931, 'Western': 0.936710000038147, 'miseries': 0.933807373046875, 'countless': 0.9281740188598633, 'bullhide': 0.9258456826210022, 'amounts': 0.91581130027771, 'palisades': 0.9150506854057312, 'Spain': 0.9055980443954468, 'tactics': 0.9016160368919373}\n",
            "Time taken = 4.23900869290034 minutes\n",
            "\n",
            "---Example for \"hero\" for window = 5, size = 50---\n",
            "{'Western': 0.8065117001533508, 'misfortune': 0.683834969997406, 'alcoholics': 0.6575164794921875, 'rousing': 0.642080545425415, 'reunions': 0.6275792121887207, 'female': 0.6234292984008789, 'maintenance': 0.6089430451393127, 'mountain': 0.6046590805053711, 'shore': 0.599830150604248, 'mortgage': 0.5944478511810303}\n",
            "Time taken = 4.635709496339162 minutes\n",
            "\n",
            "---Example for \"hero\" for window = 5, size = 100---\n",
            "{'Western': 0.7478734254837036, 'alcoholics': 0.6542297601699829, 'reunions': 0.6314139366149902, 'competency': 0.6251288056373596, 'disbelieving': 0.6071619987487793, 'schnooks': 0.6066654920578003, 'Clay': 0.6021223068237305, 'misfortune': 0.588329553604126, 'snobbery': 0.58526611328125, 'philharmonic': 0.5760655403137207}\n",
            "Time taken = 4.621028792858124 minutes\n",
            "\n",
            "---Example for \"hero\" for window = 5, size = 300---\n",
            "{'Western': 0.7440829277038574, 'alcoholics': 0.7095767259597778, 'misfortune': 0.708611249923706, 'reunions': 0.6620994806289673, 'competency': 0.6513291001319885, 'schnooks': 0.6502286791801453, 'disbelieving': 0.6468316316604614, 'instruction': 0.6150910258293152, 'Reaching': 0.5815101265907288, 'grandsons': 0.5745664834976196}\n",
            "Time taken = 5.268044046560923 minutes\n",
            "\n",
            "---Example for \"hero\" for window = 10, size = 10---\n",
            "{'Western': 0.9358206987380981, 'Communist': 0.9224398136138916, 'principal': 0.9077180624008179, 'atheists': 0.9058718681335449, 'Sally': 0.900363564491272, 'movie': 0.8959774374961853, 'continuing': 0.894544243812561, 'dogmatic': 0.8895995616912842, 'percentage': 0.8664048314094543, \"rat's\": 0.8591312766075134}\n",
            "Time taken = 4.391147740681967 minutes\n",
            "\n",
            "---Example for \"hero\" for window = 10, size = 50---\n",
            "{'Western': 0.7894531488418579, 'favorite': 0.5865253210067749, 'rides': 0.5462603569030762, 'performer': 0.5210692286491394, 'alcoholics': 0.5199134945869446, 'firing': 0.5190376043319702, 'sweaters': 0.5028468370437622, 'maneuvers': 0.5019717216491699, 'guns': 0.5015104413032532, 'challenge': 0.5013158321380615}\n",
            "Time taken = 4.756712663173675 minutes\n",
            "\n",
            "---Example for \"hero\" for window = 10, size = 100---\n",
            "{'Western': 0.7934740781784058, 'favorite': 0.528335690498352, 'Clay': 0.48001521825790405, 'Reaching': 0.4797675609588623, 'brick': 0.47260695695877075, 'facade': 0.46017399430274963, 'horses': 0.45175784826278687, 'queer': 0.4514479637145996, 'disbelieving': 0.44974493980407715, 'reunions': 0.4403831362724304}\n",
            "Time taken = 4.732204500834147 minutes\n",
            "\n",
            "---Example for \"hero\" for window = 10, size = 300---\n",
            "{'Western': 0.750163197517395, 'favorite': 0.5361204147338867, 'facade': 0.5273975729942322, 'misfortune': 0.5264322757720947, 'alcoholics': 0.5181975364685059, 'brick': 0.5102554559707642, 'disbelieving': 0.48725831508636475, 'settler': 0.46748125553131104, 'sweaters': 0.45448070764541626, 'reunions': 0.4492076337337494}\n",
            "Time taken = 5.568053309122721 minutes\n",
            "\n"
          ]
        }
      ]
    },
    {
      "cell_type": "markdown",
      "metadata": {
        "id": "TCxdjMEt0I-I"
      },
      "source": [
        "# Evaluation of Word2vec models using Pytrec eval"
      ]
    },
    {
      "cell_type": "code",
      "source": [
        "import pytrec_eval\n",
        "\n",
        "\n",
        "def pytrec_eval_w2v(sort_dict_10, w2v_dict, genre):\n",
        "  evaluator = pytrec_eval.RelevanceEvaluator(\n",
        "      sort_dict_10, {'ndcg'})\n",
        "\n",
        "  # print(json.dumps(evaluator.evaluate(w2v_dict), indent=2))\n",
        "  print(\"---------- For {}:--------\".format(genre))\n",
        "  for dictionary in w2v_dict.keys():\n",
        "    res = evaluator.evaluate(w2v_dict[dictionary])\n",
        "\n",
        "    for query_id, query_measures in sorted(res.items()):\n",
        "          for measure, value in sorted(query_measures.items()):\n",
        "              # print(measure, query_id, value)\n",
        "              continue\n",
        "\n",
        "    for measure in sorted(query_measures.keys()):\n",
        "          print( \"nDCG score for \" + dictionary ,\n",
        "              pytrec_eval.compute_aggregated_measure(\n",
        "                  measure,\n",
        "                  [query_measures[measure]\n",
        "                  for query_measures in res.values()]))"
      ],
      "metadata": {
        "id": "Vx11zOHTKVT-"
      },
      "execution_count": 134,
      "outputs": []
    },
    {
      "cell_type": "code",
      "source": [
        "pytrec_eval_w2v(sort_dict_10, w2v_dict, 'romance')"
      ],
      "metadata": {
        "colab": {
          "base_uri": "https://localhost:8080/"
        },
        "id": "zplTztCzKrhA",
        "outputId": "c2ba8970-8d14-4c75-cc61-644fcc434b80"
      },
      "execution_count": 135,
      "outputs": [
        {
          "output_type": "stream",
          "name": "stdout",
          "text": [
            "---------- For romance:--------\n",
            "nDCG score for 1x10 0.006704859993550442\n",
            "nDCG score for 1x50 0.007928021472546997\n",
            "nDCG score for 1x100 0.006511419824427791\n",
            "nDCG score for 1x300 0.006469205970937002\n",
            "nDCG score for 2x10 0.006186795083110066\n",
            "nDCG score for 2x50 0.008794989431072816\n",
            "nDCG score for 2x100 0.00795493421637018\n",
            "nDCG score for 2x300 0.007406248198746938\n",
            "nDCG score for 5x10 0.006332252586735033\n",
            "nDCG score for 5x50 0.013056943424495723\n",
            "nDCG score for 5x100 0.008500487377997816\n",
            "nDCG score for 5x300 0.0092205965648382\n",
            "nDCG score for 10x10 0.004104827855198461\n",
            "nDCG score for 10x50 0.007480234607450429\n",
            "nDCG score for 10x100 0.006305917095736932\n",
            "nDCG score for 10x300 0.006562048918452478\n"
          ]
        }
      ]
    },
    {
      "cell_type": "code",
      "source": [
        "pytrec_eval_w2v(sort_dict_10, w2v_dict, 'news')"
      ],
      "metadata": {
        "colab": {
          "base_uri": "https://localhost:8080/"
        },
        "id": "lL4vVvGcoPJJ",
        "outputId": "de15f324-7a6b-4c54-c55e-5bb3bca0342f"
      },
      "execution_count": 142,
      "outputs": [
        {
          "output_type": "stream",
          "name": "stdout",
          "text": [
            "---------- For news:--------\n",
            "nDCG score for 1x10 0.00331729417609952\n",
            "nDCG score for 1x50 0.0043387332535210895\n",
            "nDCG score for 1x100 0.0034719015818307163\n",
            "nDCG score for 1x300 0.0037100226423294213\n",
            "nDCG score for 2x10 0.0032834340327686667\n",
            "nDCG score for 2x50 0.0072804714226049\n",
            "nDCG score for 2x100 0.00800763646227483\n",
            "nDCG score for 2x300 0.0040518703277036315\n",
            "nDCG score for 5x10 0.0016122179025636453\n",
            "nDCG score for 5x50 0.009113272284384563\n",
            "nDCG score for 5x100 0.004914856969902033\n",
            "nDCG score for 5x300 0.005003408335323063\n",
            "nDCG score for 10x10 0.0004993226319172903\n",
            "nDCG score for 10x50 0.009665528472723613\n",
            "nDCG score for 10x100 0.005861872941514511\n",
            "nDCG score for 10x300 0.0047953568239530765\n"
          ]
        }
      ]
    },
    {
      "cell_type": "markdown",
      "metadata": {
        "id": "0yF4iOIDBgZ0"
      },
      "source": [
        "# TFIDF"
      ]
    },
    {
      "cell_type": "code",
      "execution_count": 88,
      "metadata": {
        "id": "_obc505fBil8"
      },
      "outputs": [],
      "source": [
        "import pandas as pd\n",
        "from sklearn.feature_extraction.text import TfidfTransformer, TfidfVectorizer"
      ]
    },
    {
      "cell_type": "code",
      "execution_count": 146,
      "metadata": {
        "id": "l0qfyScDmAPt"
      },
      "outputs": [],
      "source": [
        "sents_list = [\" \".join(sent) for sent in train_set]"
      ]
    },
    {
      "cell_type": "code",
      "execution_count": 147,
      "metadata": {
        "colab": {
          "base_uri": "https://localhost:8080/"
        },
        "id": "l_W6v8v1lli_",
        "outputId": "239983b7-3c1f-47b6-e556-86556342162a"
      },
      "outputs": [
        {
          "output_type": "execute_result",
          "data": {
            "text/plain": [
              "[\"The Fulton County Grand Jury said Friday an investigation of Atlanta's recent primary election produced `` no evidence '' that any irregularities took place .\",\n",
              " \"The jury further said in term-end presentments that the City Executive Committee , which had over-all charge of the election , `` deserves the praise and thanks of the City of Atlanta '' for the manner in which the election was conducted .\",\n",
              " \"The September-October term jury had been charged by Fulton Superior Court Judge Durwood Pye to investigate reports of possible `` irregularities '' in the hard-fought primary which was won by Mayor-nominate Ivan Allen Jr. .\",\n",
              " \"`` Only a relative handful of such reports was received '' , the jury said , `` considering the widespread interest in the election , the number of voters and the size of this city '' .\",\n",
              " \"The jury said it did find that many of Georgia's registration and election laws `` are outmoded or inadequate and often ambiguous '' .\"]"
            ]
          },
          "metadata": {},
          "execution_count": 147
        }
      ],
      "source": [
        "sents_list[:5]"
      ]
    },
    {
      "cell_type": "code",
      "source": [
        "def caculate_tfidf(data, genre):\n",
        "  start = time()\n",
        "  tfIdfVectorizer=TfidfVectorizer(stop_words=\"english\", min_df=1, max_df=0.2, decode_error='ignore')\n",
        "  tfIdf = tfIdfVectorizer.fit_transform(data)\n",
        "  end = time()\n",
        "  print('Time taken for {} genre is {} minutes'.format(genre, (end-start)/60))\n",
        "  return tfIdfVectorizer"
      ],
      "metadata": {
        "id": "rj61dY5YZEJp"
      },
      "execution_count": 149,
      "outputs": []
    },
    {
      "cell_type": "code",
      "source": [
        "import collections\n",
        "from operator import itemgetter\n",
        "\n",
        "def get_top_words(tfidf_dict, genre):\n",
        "  sort_dict_tfidf = collections.defaultdict()\n",
        "\n",
        "  for word in tfidf_dict:\n",
        "    sort_dict_tfidf[word] =  (collections.OrderedDict(sorted( tfidf_dict[word].items(), key=itemgetter(1))[:10]))\n",
        "\n",
        "  with open('tfidf_dict_10.json', 'w') as fp:\n",
        "        json.dump(sort_dict_tfidf, fp, indent = 2)\n",
        "\n",
        "  return sort_dict_tfidf"
      ],
      "metadata": {
        "id": "wspIjgGiZwmT"
      },
      "execution_count": 162,
      "outputs": []
    },
    {
      "cell_type": "code",
      "source": [
        "import itertools\n",
        "from sklearn.metrics.pairwise import cosine_similarity\n",
        "\n",
        "\n",
        "def calculate_cosine_similarity(tfIdfVectorizer, data_set, genre):\n",
        "\n",
        "  features = tfIdfVectorizer.vocabulary_.keys()\n",
        "  tfidf_dict = collections.defaultdict(dict)\n",
        "\n",
        "  for word in data_set:\n",
        "    word2 = tfIdfVectorizer.transform([word])\n",
        "    for feature in features:\n",
        "      word1 = tfIdfVectorizer.transform([feature])\n",
        "      tfidf_dict[word][feature] = float(cosine_similarity(word1, word2))\n",
        "\n",
        "  get_top_words(tfidf_dict, genre)"
      ],
      "metadata": {
        "id": "PZUZqY2ZZVtY"
      },
      "execution_count": 145,
      "outputs": []
    },
    {
      "cell_type": "code",
      "source": [
        "tfIdfVectorizer = caculate_tfidf(sents_list, 'news')"
      ],
      "metadata": {
        "colab": {
          "base_uri": "https://localhost:8080/"
        },
        "id": "TDTAvVc4ofWQ",
        "outputId": "76010ea9-e521-462c-96b7-cef87c40f724"
      },
      "execution_count": 150,
      "outputs": [
        {
          "output_type": "stream",
          "name": "stdout",
          "text": [
            "Time taken for news genre is 0.0036126454671223957 minutes\n"
          ]
        }
      ]
    },
    {
      "cell_type": "code",
      "source": [
        "sort_dict_tfidf_news = collections.defaultdict()\n",
        "  \n",
        "sort_dict_tfidf_news = calculate_cosine_similarity(tfIdfVectorizer, sort_dict_10.keys(), 'news' )"
      ],
      "metadata": {
        "id": "SfD_oDdkpE9k"
      },
      "execution_count": null,
      "outputs": []
    },
    {
      "cell_type": "code",
      "source": [
        "# For romance category\n",
        "\n",
        "train_set = brown.sents(categories='romance')\n",
        "sents_list = [\" \".join(sent) for sent in train_set]"
      ],
      "metadata": {
        "id": "AdW2gLkTp6KR"
      },
      "execution_count": 202,
      "outputs": []
    },
    {
      "cell_type": "code",
      "source": [
        "tfIdfVectorizer = caculate_tfidf(sents_list, 'romance')"
      ],
      "metadata": {
        "colab": {
          "base_uri": "https://localhost:8080/"
        },
        "id": "1g2XagLSxAjV",
        "outputId": "29476bf2-189a-4991-db3e-aab9a9cab4b8"
      },
      "execution_count": 158,
      "outputs": [
        {
          "output_type": "stream",
          "name": "stdout",
          "text": [
            "Time taken for romance genre is 0.0013535499572753906 minutes\n"
          ]
        }
      ]
    },
    {
      "cell_type": "code",
      "source": [
        "sort_dict_tfidf_romance = collections.defaultdict()\n",
        "\n",
        "sort_dict_tfidf_romance = calculate_cosine_similarity(tfIdfVectorizer, sort_dict_10.keys(), 'romance' )"
      ],
      "metadata": {
        "id": "5zaSWuKExE-H"
      },
      "execution_count": null,
      "outputs": []
    },
    {
      "cell_type": "markdown",
      "metadata": {
        "id": "OzidYmKAORj1"
      },
      "source": [
        "# Evaluation of TFIDF models using Pytrec eval"
      ]
    },
    {
      "cell_type": "code",
      "execution_count": 166,
      "metadata": {
        "id": "IdlSoGYNONFy"
      },
      "outputs": [],
      "source": [
        "import pytrec_eval\n",
        "\n",
        "evaluator = pytrec_eval.RelevanceEvaluator(\n",
        "    sort_dict_10, {'ndcg'})\n",
        "\n",
        "res = evaluator.evaluate(sort_dict_tfidf_news)"
      ]
    },
    {
      "cell_type": "code",
      "source": [
        "print(\"---NDCG SCORES FOR TFIDF FOR NEWS CORPUS---\")\n",
        "for query_id, query_measures in sorted(res.items())[:200]:\n",
        "        for measure, value in sorted(query_measures.items()):\n",
        "            if(value > 0):\n",
        "              print(query_id, value)"
      ],
      "metadata": {
        "colab": {
          "base_uri": "https://localhost:8080/"
        },
        "id": "hdWVHybLyobL",
        "outputId": "0bab0435-6988-4fd6-c877-2cbd76591f2d"
      },
      "execution_count": 176,
      "outputs": [
        {
          "output_type": "stream",
          "name": "stdout",
          "text": [
            "---NDCG SCORES FOR TFIDF FOR NEWS CORPUS---\n",
            "adult 0.08514311764162098\n",
            "ancient 0.16958010263680806\n",
            "aunt 0.15101961822780524\n",
            "bell 0.22009176629808017\n",
            "boy 0.08514311764162098\n",
            "brother 0.08514311764162098\n"
          ]
        }
      ]
    },
    {
      "cell_type": "code",
      "execution_count": 167,
      "metadata": {
        "colab": {
          "base_uri": "https://localhost:8080/"
        },
        "id": "rpLZIN3KObeN",
        "outputId": "6692a26f-2e84-4495-f0e9-187ad40390e5"
      },
      "outputs": [
        {
          "output_type": "stream",
          "name": "stdout",
          "text": [
            "ndcg score for news genre =  0.0004707312776854823\n"
          ]
        }
      ],
      "source": [
        "for measure in sorted(query_measures.keys()):\n",
        "        print(\n",
        "            measure, \"score for news genre = \",\n",
        "            pytrec_eval.compute_aggregated_measure(\n",
        "                measure,\n",
        "                [query_measures[measure]\n",
        "                 for query_measures in res.values()]))"
      ]
    },
    {
      "cell_type": "code",
      "execution_count": 178,
      "metadata": {
        "id": "-KqLX0_JObTz"
      },
      "outputs": [],
      "source": [
        "# for romance category\n",
        "\n",
        "res = evaluator.evaluate(sort_dict_tfidf_romance)"
      ]
    },
    {
      "cell_type": "code",
      "execution_count": 177,
      "metadata": {
        "id": "WGQBUafAOM3U",
        "colab": {
          "base_uri": "https://localhost:8080/"
        },
        "outputId": "7c26e89f-543d-4b8d-f247-7eec56e31a87"
      },
      "outputs": [
        {
          "output_type": "stream",
          "name": "stdout",
          "text": [
            "ndcg score for romance genre =  0.0040742048212582555\n"
          ]
        }
      ],
      "source": [
        "for measure in sorted(query_measures.keys()):\n",
        "        print(\n",
        "            measure, \"score for romance genre = \",\n",
        "            pytrec_eval.compute_aggregated_measure(\n",
        "                measure,\n",
        "                [query_measures[measure]\n",
        "                 for query_measures in res.values()]))"
      ]
    },
    {
      "cell_type": "code",
      "source": [
        "import matplotlib.pyplot as plt\n",
        "\n",
        "fig = plt.figure(figsize = (7, 4))\n",
        "models = ['Word2vec \"News\"', 'Word2vec \"Romance\"', 'TFIDF \"News\"', 'TFIDF \"Romance\"']\n",
        "scores = [0.00966, 0.00922, 0.00047, 0.00407]\n",
        "plt.bar(models, scores, width = 0.5)\n",
        "plt.xlabel(\"Vector semantic models with different corpus\", fontweight ='bold')\n",
        "plt.ylabel(\"nDCG Score\", fontweight ='bold')\n",
        "plt.title(\"nDCG scores of different vector models\", fontweight ='bold')\n",
        "plt.show()"
      ],
      "metadata": {
        "colab": {
          "base_uri": "https://localhost:8080/",
          "height": 295
        },
        "id": "rtCXnvRhzxrc",
        "outputId": "aa4d9faf-edc2-4fa6-daea-d13e2cb75bb6"
      },
      "execution_count": 211,
      "outputs": [
        {
          "output_type": "display_data",
          "data": {
            "text/plain": [
              "<Figure size 504x288 with 1 Axes>"
            ],
            "image/png": "[encoded data removed]"
          },
          "metadata": {
            "needs_background": "light"
          }
        }
      ]
    },
    {
      "cell_type": "code",
      "source": [
        ""
      ],
      "metadata": {
        "id": "SwVMtSIXz59S"
      },
      "execution_count": null,
      "outputs": []
    }
  ],
  "metadata": {
    "colab": {
      "collapsed_sections": [],
      "name": "nlp-assign3.ipynb",
      "provenance": []
    },
    "kernelspec": {
      "display_name": "Python 3",
      "name": "python3"
    },
    "language_info": {
      "name": "python"
    }
  },
  "nbformat": 4,
  "nbformat_minor": 0
}